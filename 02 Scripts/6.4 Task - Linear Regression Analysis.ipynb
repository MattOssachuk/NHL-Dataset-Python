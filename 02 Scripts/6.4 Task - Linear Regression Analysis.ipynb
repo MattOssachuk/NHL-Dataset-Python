{
 "cells": [
  {
   "cell_type": "markdown",
   "id": "98934845",
   "metadata": {},
   "source": [
    "## This workbook will be structured as follows:\n",
    "\n",
    "### 1. Importing Libraries and Data\n",
    "### 2. Cleaning the data\n",
    "### 3. Prepping data for visualization\n",
    "### 4. Exploring the data visually\n",
    "### 5. Hypothesis\n",
    "### 6. Reshaping Variables\n",
    "### 7. Splitting the data into training and test sets\n",
    "### 8. Regression analysis\n",
    "### 9. Plotting the test set\n",
    "### 10. Interpretation of how well the line fits the data\n",
    "### 11. Checking model performance\n",
    "### 12. Comparing predicted y values with actual values\n",
    "### 13. Thoughts on the model \n",
    "### 14. Repeating steps 3-13 for Blocked Shots and Wins"
   ]
  },
  {
   "cell_type": "markdown",
   "id": "bbc5468b",
   "metadata": {},
   "source": [
    "# 1. Importing Libraries and Data"
   ]
  },
  {
   "cell_type": "code",
   "execution_count": 1,
   "id": "9eeb6538",
   "metadata": {},
   "outputs": [],
   "source": [
    "# Importing Libraries\n",
    "import pandas as pd\n",
    "import numpy as np\n",
    "import seaborn as sns\n",
    "import matplotlib\n",
    "import matplotlib.pyplot as plt\n",
    "import os\n",
    "import sklearn\n",
    "from sklearn.model_selection import train_test_split \n",
    "from sklearn.linear_model import LinearRegression\n",
    "from sklearn.metrics import mean_squared_error, r2_score"
   ]
  },
  {
   "cell_type": "code",
   "execution_count": 2,
   "id": "7e769d6f",
   "metadata": {},
   "outputs": [],
   "source": [
    "# Creating a path to the .csv file\n",
    "path = r'C:\\Users\\mmoss\\07-02-2022 NHL Data Analysis'"
   ]
  },
  {
   "cell_type": "code",
   "execution_count": 3,
   "id": "f3f41b49",
   "metadata": {},
   "outputs": [],
   "source": [
    "# Importing the cleaned data\n",
    "df_relationships = pd.read_csv(os.path.join(path, '02 Data', 'Prepared', 'data_relationships.csv'), index_col = False)"
   ]
  },
  {
   "cell_type": "code",
   "execution_count": 4,
   "id": "878ddf58",
   "metadata": {},
   "outputs": [
    {
     "data": {
      "text/html": [
       "<div>\n",
       "<style scoped>\n",
       "    .dataframe tbody tr th:only-of-type {\n",
       "        vertical-align: middle;\n",
       "    }\n",
       "\n",
       "    .dataframe tbody tr th {\n",
       "        vertical-align: top;\n",
       "    }\n",
       "\n",
       "    .dataframe thead th {\n",
       "        text-align: right;\n",
       "    }\n",
       "</style>\n",
       "<table border=\"1\" class=\"dataframe\">\n",
       "  <thead>\n",
       "    <tr style=\"text-align: right;\">\n",
       "      <th></th>\n",
       "      <th>Unnamed: 0</th>\n",
       "      <th>team_id</th>\n",
       "      <th>Assists</th>\n",
       "      <th>Goals</th>\n",
       "      <th>Shots</th>\n",
       "      <th>Hits</th>\n",
       "      <th>Blocked Shots</th>\n",
       "      <th>number_of_wins</th>\n",
       "    </tr>\n",
       "  </thead>\n",
       "  <tbody>\n",
       "    <tr>\n",
       "      <th>0</th>\n",
       "      <td>0</td>\n",
       "      <td>1</td>\n",
       "      <td>662</td>\n",
       "      <td>404</td>\n",
       "      <td>4605</td>\n",
       "      <td>3305</td>\n",
       "      <td>2191</td>\n",
       "      <td>1691</td>\n",
       "    </tr>\n",
       "    <tr>\n",
       "      <th>1</th>\n",
       "      <td>1</td>\n",
       "      <td>2</td>\n",
       "      <td>825</td>\n",
       "      <td>495</td>\n",
       "      <td>5252</td>\n",
       "      <td>5204</td>\n",
       "      <td>3032</td>\n",
       "      <td>1743</td>\n",
       "    </tr>\n",
       "    <tr>\n",
       "      <th>2</th>\n",
       "      <td>2</td>\n",
       "      <td>3</td>\n",
       "      <td>771</td>\n",
       "      <td>456</td>\n",
       "      <td>4630</td>\n",
       "      <td>3731</td>\n",
       "      <td>2292</td>\n",
       "      <td>1768</td>\n",
       "    </tr>\n",
       "    <tr>\n",
       "      <th>3</th>\n",
       "      <td>3</td>\n",
       "      <td>4</td>\n",
       "      <td>865</td>\n",
       "      <td>506</td>\n",
       "      <td>5182</td>\n",
       "      <td>3798</td>\n",
       "      <td>2380</td>\n",
       "      <td>1735</td>\n",
       "    </tr>\n",
       "    <tr>\n",
       "      <th>4</th>\n",
       "      <td>4</td>\n",
       "      <td>5</td>\n",
       "      <td>854</td>\n",
       "      <td>504</td>\n",
       "      <td>5164</td>\n",
       "      <td>4496</td>\n",
       "      <td>2225</td>\n",
       "      <td>1786</td>\n",
       "    </tr>\n",
       "  </tbody>\n",
       "</table>\n",
       "</div>"
      ],
      "text/plain": [
       "   Unnamed: 0  team_id  Assists  Goals  Shots  Hits  Blocked Shots  \\\n",
       "0           0        1      662    404   4605  3305           2191   \n",
       "1           1        2      825    495   5252  5204           3032   \n",
       "2           2        3      771    456   4630  3731           2292   \n",
       "3           3        4      865    506   5182  3798           2380   \n",
       "4           4        5      854    504   5164  4496           2225   \n",
       "\n",
       "   number_of_wins  \n",
       "0            1691  \n",
       "1            1743  \n",
       "2            1768  \n",
       "3            1735  \n",
       "4            1786  "
      ]
     },
     "execution_count": 4,
     "metadata": {},
     "output_type": "execute_result"
    }
   ],
   "source": [
    "# Checking the head\n",
    "df_relationships.head()"
   ]
  },
  {
   "cell_type": "markdown",
   "id": "40859e99",
   "metadata": {},
   "source": [
    "# 2. Cleaning the data"
   ]
  },
  {
   "cell_type": "markdown",
   "id": "d6869f6d",
   "metadata": {},
   "source": [
    "### Cleaning the column headings"
   ]
  },
  {
   "cell_type": "code",
   "execution_count": 5,
   "id": "01362677",
   "metadata": {},
   "outputs": [
    {
     "data": {
      "text/plain": [
       "Index(['Unnamed: 0', 'team_id', 'Assists', 'Goals', 'Shots', 'Hits',\n",
       "       'Blocked Shots', 'number_of_wins'],\n",
       "      dtype='object')"
      ]
     },
     "execution_count": 5,
     "metadata": {},
     "output_type": "execute_result"
    }
   ],
   "source": [
    "# Seeing the columns\n",
    "df_relationships.columns"
   ]
  },
  {
   "cell_type": "code",
   "execution_count": 6,
   "id": "8b3ba57a",
   "metadata": {},
   "outputs": [
    {
     "name": "stderr",
     "output_type": "stream",
     "text": [
      "C:\\Users\\mmoss\\AppData\\Local\\Temp/ipykernel_1808/1795198759.py:2: FutureWarning: In a future version of pandas all arguments of DataFrame.drop except for the argument 'labels' will be keyword-only\n",
      "  df_relationships = df_relationships.drop('Unnamed: 0', 1)\n"
     ]
    }
   ],
   "source": [
    "# Removing the Unamed:0 Column\n",
    "df_relationships = df_relationships.drop('Unnamed: 0', 1)"
   ]
  },
  {
   "cell_type": "code",
   "execution_count": 7,
   "id": "69adc7a5",
   "metadata": {},
   "outputs": [
    {
     "data": {
      "text/html": [
       "<div>\n",
       "<style scoped>\n",
       "    .dataframe tbody tr th:only-of-type {\n",
       "        vertical-align: middle;\n",
       "    }\n",
       "\n",
       "    .dataframe tbody tr th {\n",
       "        vertical-align: top;\n",
       "    }\n",
       "\n",
       "    .dataframe thead th {\n",
       "        text-align: right;\n",
       "    }\n",
       "</style>\n",
       "<table border=\"1\" class=\"dataframe\">\n",
       "  <thead>\n",
       "    <tr style=\"text-align: right;\">\n",
       "      <th></th>\n",
       "      <th>team_id</th>\n",
       "      <th>Assists</th>\n",
       "      <th>Goals</th>\n",
       "      <th>Shots</th>\n",
       "      <th>Hits</th>\n",
       "      <th>Blocked Shots</th>\n",
       "      <th>number_of_wins</th>\n",
       "    </tr>\n",
       "  </thead>\n",
       "  <tbody>\n",
       "    <tr>\n",
       "      <th>0</th>\n",
       "      <td>1</td>\n",
       "      <td>662</td>\n",
       "      <td>404</td>\n",
       "      <td>4605</td>\n",
       "      <td>3305</td>\n",
       "      <td>2191</td>\n",
       "      <td>1691</td>\n",
       "    </tr>\n",
       "    <tr>\n",
       "      <th>1</th>\n",
       "      <td>2</td>\n",
       "      <td>825</td>\n",
       "      <td>495</td>\n",
       "      <td>5252</td>\n",
       "      <td>5204</td>\n",
       "      <td>3032</td>\n",
       "      <td>1743</td>\n",
       "    </tr>\n",
       "    <tr>\n",
       "      <th>2</th>\n",
       "      <td>3</td>\n",
       "      <td>771</td>\n",
       "      <td>456</td>\n",
       "      <td>4630</td>\n",
       "      <td>3731</td>\n",
       "      <td>2292</td>\n",
       "      <td>1768</td>\n",
       "    </tr>\n",
       "    <tr>\n",
       "      <th>3</th>\n",
       "      <td>4</td>\n",
       "      <td>865</td>\n",
       "      <td>506</td>\n",
       "      <td>5182</td>\n",
       "      <td>3798</td>\n",
       "      <td>2380</td>\n",
       "      <td>1735</td>\n",
       "    </tr>\n",
       "    <tr>\n",
       "      <th>4</th>\n",
       "      <td>5</td>\n",
       "      <td>854</td>\n",
       "      <td>504</td>\n",
       "      <td>5164</td>\n",
       "      <td>4496</td>\n",
       "      <td>2225</td>\n",
       "      <td>1786</td>\n",
       "    </tr>\n",
       "  </tbody>\n",
       "</table>\n",
       "</div>"
      ],
      "text/plain": [
       "   team_id  Assists  Goals  Shots  Hits  Blocked Shots  number_of_wins\n",
       "0        1      662    404   4605  3305           2191            1691\n",
       "1        2      825    495   5252  5204           3032            1743\n",
       "2        3      771    456   4630  3731           2292            1768\n",
       "3        4      865    506   5182  3798           2380            1735\n",
       "4        5      854    504   5164  4496           2225            1786"
      ]
     },
     "execution_count": 7,
     "metadata": {},
     "output_type": "execute_result"
    }
   ],
   "source": [
    "# Checking it\n",
    "df_relationships.head()"
   ]
  },
  {
   "cell_type": "markdown",
   "id": "ae9fb3ed",
   "metadata": {},
   "source": [
    "Success!"
   ]
  },
  {
   "cell_type": "code",
   "execution_count": 8,
   "id": "ed5a579d",
   "metadata": {},
   "outputs": [
    {
     "data": {
      "text/plain": [
       "(35, 7)"
      ]
     },
     "execution_count": 8,
     "metadata": {},
     "output_type": "execute_result"
    }
   ],
   "source": [
    "# Getting the shape of the data\n",
    "df_relationships.shape"
   ]
  },
  {
   "cell_type": "markdown",
   "id": "985e09ca",
   "metadata": {},
   "source": [
    "### Missing values"
   ]
  },
  {
   "cell_type": "code",
   "execution_count": 9,
   "id": "0286f455",
   "metadata": {},
   "outputs": [
    {
     "data": {
      "text/plain": [
       "team_id           0\n",
       "Assists           0\n",
       "Goals             0\n",
       "Shots             0\n",
       "Hits              0\n",
       "Blocked Shots     0\n",
       "number_of_wins    0\n",
       "dtype: int64"
      ]
     },
     "execution_count": 9,
     "metadata": {},
     "output_type": "execute_result"
    }
   ],
   "source": [
    "# Check for missing values\n",
    "\n",
    "df_relationships.isnull().sum()\n",
    "\n"
   ]
  },
  {
   "cell_type": "markdown",
   "id": "7503a897",
   "metadata": {},
   "source": [
    "No missing values."
   ]
  },
  {
   "cell_type": "markdown",
   "id": "146c6a5c",
   "metadata": {},
   "source": [
    "### Duplicates check"
   ]
  },
  {
   "cell_type": "code",
   "execution_count": 10,
   "id": "f4c0bce4",
   "metadata": {},
   "outputs": [],
   "source": [
    "dups = df_relationships.duplicated()"
   ]
  },
  {
   "cell_type": "code",
   "execution_count": 11,
   "id": "e4328565",
   "metadata": {},
   "outputs": [
    {
     "data": {
      "text/plain": [
       "(35,)"
      ]
     },
     "execution_count": 11,
     "metadata": {},
     "output_type": "execute_result"
    }
   ],
   "source": [
    "dups.shape # No dups"
   ]
  },
  {
   "cell_type": "markdown",
   "id": "12bfb7a6",
   "metadata": {},
   "source": [
    "### Checking for extreme values"
   ]
  },
  {
   "cell_type": "code",
   "execution_count": 12,
   "id": "a8defd43",
   "metadata": {},
   "outputs": [
    {
     "data": {
      "text/plain": [
       "<AxesSubplot:xlabel='Goals', ylabel='Count'>"
      ]
     },
     "execution_count": 12,
     "metadata": {},
     "output_type": "execute_result"
    },
    {
     "data": {
      "image/png": "[encoded data removed]",
      "text/plain": [
       "<Figure size 432x288 with 1 Axes>"
      ]
     },
     "metadata": {
      "needs_background": "light"
     },
     "output_type": "display_data"
    }
   ],
   "source": [
    "sns.histplot(df_relationships['Goals'], bins=25) # Shows extreme values\n",
    "\n",
    "# Some of the outliers in the high values may need to be removed, but let's try without doing so first."
   ]
  },
  {
   "cell_type": "markdown",
   "id": "33acb814",
   "metadata": {},
   "source": [
    "Seems unlikely that there would be on a handful of goals for an entire team but removing these 4 entries would get rid of 11% of my data I'm going to keep them in. "
   ]
  },
  {
   "cell_type": "code",
   "execution_count": 14,
   "id": "6a401273",
   "metadata": {},
   "outputs": [
    {
     "data": {
      "text/plain": [
       "435.8285714285714"
      ]
     },
     "execution_count": 14,
     "metadata": {},
     "output_type": "execute_result"
    }
   ],
   "source": [
    "df_relationships['Goals'].mean() # Check the mean"
   ]
  },
  {
   "cell_type": "code",
   "execution_count": 15,
   "id": "8389de80",
   "metadata": {},
   "outputs": [
    {
     "data": {
      "text/plain": [
       "491.0"
      ]
     },
     "execution_count": 15,
     "metadata": {},
     "output_type": "execute_result"
    }
   ],
   "source": [
    "df_relationships['Goals'].median() # Check the median"
   ]
  },
  {
   "cell_type": "code",
   "execution_count": 16,
   "id": "be2d0a83",
   "metadata": {},
   "outputs": [
    {
     "data": {
      "text/plain": [
       "647"
      ]
     },
     "execution_count": 16,
     "metadata": {},
     "output_type": "execute_result"
    }
   ],
   "source": [
    "df_relationships['Goals'].max() # Check the max"
   ]
  },
  {
   "cell_type": "markdown",
   "id": "c407de71",
   "metadata": {},
   "source": [
    "# 3. Prepping data for visualization"
   ]
  },
  {
   "cell_type": "markdown",
   "id": "2e8e574d",
   "metadata": {},
   "source": [
    "## A) Shots and Goals"
   ]
  },
  {
   "cell_type": "markdown",
   "id": "78d55f8d",
   "metadata": {},
   "source": [
    "# 4. Exploring data visually"
   ]
  },
  {
   "cell_type": "code",
   "execution_count": 18,
   "id": "9119e7ad",
   "metadata": {},
   "outputs": [
    {
     "data": {
      "image/png": "[encoded data removed]",
      "text/plain": [
       "<Figure size 432x288 with 1 Axes>"
      ]
     },
     "metadata": {
      "needs_background": "light"
     },
     "output_type": "display_data"
    }
   ],
   "source": [
    "# Create a scatterplot using matplotlib for another look at how the chosen variables plot against each other.\n",
    "\n",
    "df_relationships.plot(x = 'Shots', y='Goals',style='o') # The style option creates a scatterplot; without it, we only have lines.\n",
    "plt.title('Shots vs Goals')  \n",
    "plt.xlabel('Shots')  \n",
    "plt.ylabel('Goals')  \n",
    "plt.show()"
   ]
  },
  {
   "cell_type": "markdown",
   "id": "61fdb571",
   "metadata": {},
   "source": [
    "# 5. Hypothesis"
   ]
  },
  {
   "cell_type": "markdown",
   "id": "57ebfd5f",
   "metadata": {},
   "source": [
    "As a players shots per game increase, so do their goals."
   ]
  },
  {
   "cell_type": "markdown",
   "id": "b844f3a6",
   "metadata": {},
   "source": [
    "# 6. Reshaping variables"
   ]
  },
  {
   "cell_type": "code",
   "execution_count": 19,
   "id": "f27762e2",
   "metadata": {},
   "outputs": [],
   "source": [
    "# Reshape the variables into NumPy arrays and put them into separate objects.\n",
    "\n",
    "X = df_relationships['Shots'].values.reshape(-1,1)\n",
    "y = df_relationships['Goals'].values.reshape(-1,1)"
   ]
  },
  {
   "cell_type": "code",
   "execution_count": 20,
   "id": "fd5cc568",
   "metadata": {},
   "outputs": [
    {
     "data": {
      "text/plain": [
       "array([[4605],\n",
       "       [5252],\n",
       "       [4630],\n",
       "       [5182],\n",
       "       [5164],\n",
       "       [6134],\n",
       "       [4718],\n",
       "       [5476],\n",
       "       [4603],\n",
       "       [5451],\n",
       "       [5730],\n",
       "       [5033],\n",
       "       [5792],\n",
       "       [5087],\n",
       "       [5099],\n",
       "       [4317],\n",
       "       [5345],\n",
       "       [5865],\n",
       "       [5313],\n",
       "       [5877],\n",
       "       [4599],\n",
       "       [5037],\n",
       "       [4377],\n",
       "       [5841],\n",
       "       [4682],\n",
       "       [5413],\n",
       "       [5515],\n",
       "       [4766],\n",
       "       [5044],\n",
       "       [4974],\n",
       "       [6231],\n",
       "       [  53],\n",
       "       [  64],\n",
       "       [  40],\n",
       "       [  48]], dtype=int64)"
      ]
     },
     "execution_count": 20,
     "metadata": {},
     "output_type": "execute_result"
    }
   ],
   "source": [
    "X"
   ]
  },
  {
   "cell_type": "code",
   "execution_count": 21,
   "id": "4209849c",
   "metadata": {},
   "outputs": [
    {
     "data": {
      "text/plain": [
       "array([[404],\n",
       "       [495],\n",
       "       [456],\n",
       "       [506],\n",
       "       [504],\n",
       "       [592],\n",
       "       [414],\n",
       "       [474],\n",
       "       [432],\n",
       "       [550],\n",
       "       [518],\n",
       "       [498],\n",
       "       [647],\n",
       "       [543],\n",
       "       [496],\n",
       "       [366],\n",
       "       [470],\n",
       "       [564],\n",
       "       [533],\n",
       "       [589],\n",
       "       [463],\n",
       "       [491],\n",
       "       [378],\n",
       "       [499],\n",
       "       [376],\n",
       "       [527],\n",
       "       [490],\n",
       "       [438],\n",
       "       [504],\n",
       "       [421],\n",
       "       [552],\n",
       "       [ 17],\n",
       "       [ 22],\n",
       "       [ 10],\n",
       "       [ 15]], dtype=int64)"
      ]
     },
     "execution_count": 21,
     "metadata": {},
     "output_type": "execute_result"
    }
   ],
   "source": [
    "y"
   ]
  },
  {
   "cell_type": "markdown",
   "id": "b95b63a9",
   "metadata": {},
   "source": [
    "# 7. Splitting the data into training and test sets"
   ]
  },
  {
   "cell_type": "code",
   "execution_count": 22,
   "id": "e0a75819",
   "metadata": {},
   "outputs": [],
   "source": [
    "# Split data into a training set and a test set.\n",
    "\n",
    "X_train, X_test, y_train, y_test = train_test_split(X, y, test_size=0.3, random_state=0)"
   ]
  },
  {
   "cell_type": "markdown",
   "id": "08280e85",
   "metadata": {},
   "source": [
    "# 8. Regression Analysis"
   ]
  },
  {
   "cell_type": "code",
   "execution_count": 23,
   "id": "53273629",
   "metadata": {},
   "outputs": [],
   "source": [
    "# Create a regression object.\n",
    "\n",
    "regression = LinearRegression()  # This is the regression object, which will be fit onto the training set."
   ]
  },
  {
   "cell_type": "code",
   "execution_count": 24,
   "id": "837948a6",
   "metadata": {},
   "outputs": [
    {
     "data": {
      "text/plain": [
       "LinearRegression()"
      ]
     },
     "execution_count": 24,
     "metadata": {},
     "output_type": "execute_result"
    }
   ],
   "source": [
    "# Fit the regression object onto the training set.\n",
    "\n",
    "regression.fit(X_train, y_train)"
   ]
  },
  {
   "cell_type": "code",
   "execution_count": 25,
   "id": "7e8b87f0",
   "metadata": {},
   "outputs": [],
   "source": [
    "# Predict the values of y using X.\n",
    "\n",
    "y_predicted = regression.predict(X_test)"
   ]
  },
  {
   "cell_type": "markdown",
   "id": "77c55a6a",
   "metadata": {},
   "source": [
    "# 9. Creating a plot that shows regression line on the test set"
   ]
  },
  {
   "cell_type": "code",
   "execution_count": 26,
   "id": "b45536f7",
   "metadata": {},
   "outputs": [
    {
     "data": {
      "image/png": "[encoded data removed]",
      "text/plain": [
       "<Figure size 432x288 with 1 Axes>"
      ]
     },
     "metadata": {
      "needs_background": "light"
     },
     "output_type": "display_data"
    }
   ],
   "source": [
    "# Create a plot that shows the regression line from the model on the test set.\n",
    "\n",
    "plot_test = plt\n",
    "plot_test.scatter(X_test, y_test, color='gray', s = 15)\n",
    "plot_test.plot(X_test, y_predicted, color='red', linewidth =3)\n",
    "plot_test.title('Shots vs Goals (Test set)')\n",
    "plot_test.xlabel('Shots')\n",
    "plot_test.ylabel('Goals')\n",
    "plot_test.show()"
   ]
  },
  {
   "cell_type": "markdown",
   "id": "09745de2",
   "metadata": {},
   "source": [
    "# 10. Interpretation of how well the line fits the data"
   ]
  },
  {
   "cell_type": "markdown",
   "id": "1caa0b1f",
   "metadata": {},
   "source": [
    "Line fits the data fairly well."
   ]
  },
  {
   "cell_type": "code",
   "execution_count": 27,
   "id": "00df68ad",
   "metadata": {},
   "outputs": [],
   "source": [
    "# Create objects that contain the model summary statistics.\n",
    "\n",
    "rmse = mean_squared_error(y_test, y_predicted) # This is the mean squared error\n",
    "r2 = r2_score(y_test, y_predicted) # This is the R2 score. "
   ]
  },
  {
   "cell_type": "markdown",
   "id": "2c674871",
   "metadata": {},
   "source": [
    "# 11. Checking model performance"
   ]
  },
  {
   "cell_type": "code",
   "execution_count": 28,
   "id": "6bf72d05",
   "metadata": {},
   "outputs": [
    {
     "name": "stdout",
     "output_type": "stream",
     "text": [
      "Slope: [[0.09362473]]\n",
      "Mean squared error:  975.8103926159511\n",
      "R2 score:  0.6283645014776589\n"
     ]
    }
   ],
   "source": [
    "# Print the model summary statistics. This is where you evaluate the performance of the model.\n",
    "\n",
    "print('Slope:' ,regression.coef_)\n",
    "print('Mean squared error: ', rmse)\n",
    "print('R2 score: ', r2)"
   ]
  },
  {
   "cell_type": "markdown",
   "id": "57d31e3e",
   "metadata": {},
   "source": [
    "According to the slope, as the number of shots rise so does the number of goals."
   ]
  },
  {
   "cell_type": "markdown",
   "id": "daab6bf7",
   "metadata": {},
   "source": [
    "According to the MSE, the value is larger and it is not the best fit for the data."
   ]
  },
  {
   "cell_type": "markdown",
   "id": "ad20f276",
   "metadata": {},
   "source": [
    "According to the R2 Score, this is is a correlation coefficient of 0.81 a shows a strong positive relationship between the two variables. There is a relationship here!"
   ]
  },
  {
   "cell_type": "markdown",
   "id": "082604eb",
   "metadata": {},
   "source": [
    "# 12. Comparing predicted y values with actual y values"
   ]
  },
  {
   "cell_type": "code",
   "execution_count": 29,
   "id": "7ce0c705",
   "metadata": {},
   "outputs": [
    {
     "data": {
      "text/plain": [
       "array([[473.40092205],\n",
       "       [438.29164643],\n",
       "       [508.13569872],\n",
       "       [479.95465349],\n",
       "       [417.50695527],\n",
       "       [411.88947117],\n",
       "       [544.18122168],\n",
       "       [441.19401322],\n",
       "       [478.92478141],\n",
       "       [453.92697717],\n",
       "       [514.50218069]])"
      ]
     },
     "execution_count": 29,
     "metadata": {},
     "output_type": "execute_result"
    }
   ],
   "source": [
    "y_predicted"
   ]
  },
  {
   "cell_type": "code",
   "execution_count": 30,
   "id": "9741d84a",
   "metadata": {},
   "outputs": [
    {
     "data": {
      "text/html": [
       "<div>\n",
       "<style scoped>\n",
       "    .dataframe tbody tr th:only-of-type {\n",
       "        vertical-align: middle;\n",
       "    }\n",
       "\n",
       "    .dataframe tbody tr th {\n",
       "        vertical-align: top;\n",
       "    }\n",
       "\n",
       "    .dataframe thead th {\n",
       "        text-align: right;\n",
       "    }\n",
       "</style>\n",
       "<table border=\"1\" class=\"dataframe\">\n",
       "  <thead>\n",
       "    <tr style=\"text-align: right;\">\n",
       "      <th></th>\n",
       "      <th>Actual</th>\n",
       "      <th>Predicted</th>\n",
       "    </tr>\n",
       "  </thead>\n",
       "  <tbody>\n",
       "    <tr>\n",
       "      <th>0</th>\n",
       "      <td>421</td>\n",
       "      <td>473.400922</td>\n",
       "    </tr>\n",
       "    <tr>\n",
       "      <th>1</th>\n",
       "      <td>463</td>\n",
       "      <td>438.291646</td>\n",
       "    </tr>\n",
       "    <tr>\n",
       "      <th>2</th>\n",
       "      <td>470</td>\n",
       "      <td>508.135699</td>\n",
       "    </tr>\n",
       "    <tr>\n",
       "      <th>3</th>\n",
       "      <td>504</td>\n",
       "      <td>479.954653</td>\n",
       "    </tr>\n",
       "    <tr>\n",
       "      <th>4</th>\n",
       "      <td>378</td>\n",
       "      <td>417.506955</td>\n",
       "    </tr>\n",
       "    <tr>\n",
       "      <th>5</th>\n",
       "      <td>366</td>\n",
       "      <td>411.889471</td>\n",
       "    </tr>\n",
       "    <tr>\n",
       "      <th>6</th>\n",
       "      <td>518</td>\n",
       "      <td>544.181222</td>\n",
       "    </tr>\n",
       "    <tr>\n",
       "      <th>7</th>\n",
       "      <td>456</td>\n",
       "      <td>441.194013</td>\n",
       "    </tr>\n",
       "    <tr>\n",
       "      <th>8</th>\n",
       "      <td>498</td>\n",
       "      <td>478.924781</td>\n",
       "    </tr>\n",
       "    <tr>\n",
       "      <th>9</th>\n",
       "      <td>438</td>\n",
       "      <td>453.926977</td>\n",
       "    </tr>\n",
       "    <tr>\n",
       "      <th>10</th>\n",
       "      <td>527</td>\n",
       "      <td>514.502181</td>\n",
       "    </tr>\n",
       "  </tbody>\n",
       "</table>\n",
       "</div>"
      ],
      "text/plain": [
       "    Actual   Predicted\n",
       "0      421  473.400922\n",
       "1      463  438.291646\n",
       "2      470  508.135699\n",
       "3      504  479.954653\n",
       "4      378  417.506955\n",
       "5      366  411.889471\n",
       "6      518  544.181222\n",
       "7      456  441.194013\n",
       "8      498  478.924781\n",
       "9      438  453.926977\n",
       "10     527  514.502181"
      ]
     },
     "execution_count": 30,
     "metadata": {},
     "output_type": "execute_result"
    }
   ],
   "source": [
    "# Create a dataframe comparing the actual and predicted values of y.\n",
    "\n",
    "data = pd.DataFrame({'Actual': y_test.flatten(), 'Predicted': y_predicted.flatten()})\n",
    "data.head(30)"
   ]
  },
  {
   "cell_type": "markdown",
   "id": "9104f07f",
   "metadata": {},
   "source": [
    "Values are within tenths of a decimal here."
   ]
  },
  {
   "cell_type": "markdown",
   "id": "172c18a0",
   "metadata": {},
   "source": [
    "# 13. Thoughts about how the model performed"
   ]
  },
  {
   "cell_type": "markdown",
   "id": "96275d58",
   "metadata": {},
   "source": [
    "According to the slope of the model, as the number of shots rise so does the number of goals (it is positive)."
   ]
  },
  {
   "cell_type": "markdown",
   "id": "607fd1de",
   "metadata": {},
   "source": [
    "According to the MSE, the value is larger and it is not the best fit for the data."
   ]
  },
  {
   "cell_type": "markdown",
   "id": "9592a750",
   "metadata": {},
   "source": [
    "According to the R2 Score, this is is a correlation coefficient of 0.81 a shows a strong positive relationship between the two variables. There is a relationship here!"
   ]
  },
  {
   "cell_type": "markdown",
   "id": "f8b02c8a",
   "metadata": {},
   "source": [
    "According to the actual y values and predicted y values they fall within decimal points of eachother. Pretty good predictor. "
   ]
  },
  {
   "cell_type": "markdown",
   "id": "8fed4a1e",
   "metadata": {},
   "source": [
    "# B) Blocked Shots and Wins"
   ]
  },
  {
   "cell_type": "markdown",
   "id": "1e172702",
   "metadata": {},
   "source": [
    "# Prepping data for visualization"
   ]
  },
  {
   "cell_type": "markdown",
   "id": "5f1f48ea",
   "metadata": {},
   "source": [
    "## Extreme values"
   ]
  },
  {
   "cell_type": "code",
   "execution_count": 31,
   "id": "fdc61633",
   "metadata": {},
   "outputs": [
    {
     "data": {
      "text/plain": [
       "<AxesSubplot:xlabel='Blocked Shots', ylabel='Count'>"
      ]
     },
     "execution_count": 31,
     "metadata": {},
     "output_type": "execute_result"
    },
    {
     "data": {
      "image/png": "[encoded data removed]",
      "text/plain": [
       "<Figure size 432x288 with 1 Axes>"
      ]
     },
     "metadata": {
      "needs_background": "light"
     },
     "output_type": "display_data"
    }
   ],
   "source": [
    "# Checking for extreme values\n",
    "sns.histplot(df_relationships['Blocked Shots'], bins=25) # Shows extreme values\n",
    "\n",
    "# Some of the outliers in the high values may need to be removed, but let's try without doing so first."
   ]
  },
  {
   "cell_type": "markdown",
   "id": "70f11d07",
   "metadata": {},
   "source": [
    "Doesn't appear to be any extreme values here."
   ]
  },
  {
   "cell_type": "code",
   "execution_count": 32,
   "id": "cf393de3",
   "metadata": {},
   "outputs": [
    {
     "data": {
      "text/plain": [
       "2087.7428571428572"
      ]
     },
     "execution_count": 32,
     "metadata": {},
     "output_type": "execute_result"
    }
   ],
   "source": [
    "df_relationships['Blocked Shots'].mean() # Check the mean"
   ]
  },
  {
   "cell_type": "code",
   "execution_count": 33,
   "id": "d221881b",
   "metadata": {},
   "outputs": [
    {
     "data": {
      "text/plain": [
       "2278.0"
      ]
     },
     "execution_count": 33,
     "metadata": {},
     "output_type": "execute_result"
    }
   ],
   "source": [
    "df_relationships['Blocked Shots'].median() # Check the median"
   ]
  },
  {
   "cell_type": "code",
   "execution_count": 34,
   "id": "41318c7f",
   "metadata": {},
   "outputs": [
    {
     "data": {
      "text/plain": [
       "3056"
      ]
     },
     "execution_count": 34,
     "metadata": {},
     "output_type": "execute_result"
    }
   ],
   "source": [
    "df_relationships['Blocked Shots'].max() # Check the max"
   ]
  },
  {
   "cell_type": "markdown",
   "id": "1a4ecdfb",
   "metadata": {},
   "source": [
    "# Exploring data visually"
   ]
  },
  {
   "cell_type": "code",
   "execution_count": 35,
   "id": "878c9d7c",
   "metadata": {},
   "outputs": [
    {
     "data": {
      "image/png": "[encoded data removed]",
      "text/plain": [
       "<Figure size 432x288 with 1 Axes>"
      ]
     },
     "metadata": {
      "needs_background": "light"
     },
     "output_type": "display_data"
    }
   ],
   "source": [
    "# Create a scatterplot using matplotlib for another look at how the chosen variables plot against each other.\n",
    "\n",
    "df_relationships.plot(x = 'Blocked Shots', y='number_of_wins',style='o') # The style option creates a scatterplot; without it, we only have lines.\n",
    "plt.title('Shots Blocked vs Number of Wins')  \n",
    "plt.xlabel('Shots Blocked')  \n",
    "plt.ylabel('Number of Wins')  \n",
    "plt.show()"
   ]
  },
  {
   "cell_type": "markdown",
   "id": "e35c7fe8",
   "metadata": {},
   "source": [
    "# Hypothesis"
   ]
  },
  {
   "cell_type": "markdown",
   "id": "d1bf8ccb",
   "metadata": {},
   "source": [
    "When a team blocks more shots, the number of games they win increases."
   ]
  },
  {
   "cell_type": "markdown",
   "id": "0edc1685",
   "metadata": {},
   "source": [
    "# Reshaping variables"
   ]
  },
  {
   "cell_type": "code",
   "execution_count": 36,
   "id": "17797b67",
   "metadata": {},
   "outputs": [],
   "source": [
    "# Reshape the variables into NumPy arrays and put them into separate objects.\n",
    "\n",
    "X_2 = df_relationships['Blocked Shots'].values.reshape(-1,1)\n",
    "y_2 = df_relationships['number_of_wins'].values.reshape(-1,1)"
   ]
  },
  {
   "cell_type": "code",
   "execution_count": 37,
   "id": "88afea0f",
   "metadata": {},
   "outputs": [
    {
     "data": {
      "text/plain": [
       "array([[2191],\n",
       "       [3032],\n",
       "       [2292],\n",
       "       [2380],\n",
       "       [2225],\n",
       "       [2518],\n",
       "       [1762],\n",
       "       [2224],\n",
       "       [2451],\n",
       "       [2185],\n",
       "       [2149],\n",
       "       [2155],\n",
       "       [2528],\n",
       "       [2415],\n",
       "       [2278],\n",
       "       [2008],\n",
       "       [2296],\n",
       "       [2480],\n",
       "       [2212],\n",
       "       [2798],\n",
       "       [2284],\n",
       "       [2682],\n",
       "       [2139],\n",
       "       [3056],\n",
       "       [2031],\n",
       "       [2344],\n",
       "       [2533],\n",
       "       [2244],\n",
       "       [2185],\n",
       "       [2424],\n",
       "       [2559],\n",
       "       [   2],\n",
       "       [   3],\n",
       "       [   3],\n",
       "       [   3]], dtype=int64)"
      ]
     },
     "execution_count": 37,
     "metadata": {},
     "output_type": "execute_result"
    }
   ],
   "source": [
    "X_2"
   ]
  },
  {
   "cell_type": "code",
   "execution_count": 38,
   "id": "1bb15542",
   "metadata": {},
   "outputs": [
    {
     "data": {
      "text/plain": [
       "array([[1691],\n",
       "       [1743],\n",
       "       [1768],\n",
       "       [1735],\n",
       "       [1786],\n",
       "       [1822],\n",
       "       [1669],\n",
       "       [1732],\n",
       "       [1709],\n",
       "       [1709],\n",
       "       [1705],\n",
       "       [1682],\n",
       "       [1804],\n",
       "       [1789],\n",
       "       [1771],\n",
       "       [1713],\n",
       "       [1762],\n",
       "       [1794],\n",
       "       [1709],\n",
       "       [1731],\n",
       "       [1686],\n",
       "       [1736],\n",
       "       [1739],\n",
       "       [1761],\n",
       "       [1744],\n",
       "       [1787],\n",
       "       [1721],\n",
       "       [1714],\n",
       "       [ 888],\n",
       "       [ 650],\n",
       "       [ 468],\n",
       "       [   6],\n",
       "       [   6],\n",
       "       [   4],\n",
       "       [   4]], dtype=int64)"
      ]
     },
     "execution_count": 38,
     "metadata": {},
     "output_type": "execute_result"
    }
   ],
   "source": [
    "y_2"
   ]
  },
  {
   "cell_type": "markdown",
   "id": "6ef0f0c3",
   "metadata": {},
   "source": [
    "# Splitting the data into training and test sets"
   ]
  },
  {
   "cell_type": "code",
   "execution_count": 39,
   "id": "8acf2e6c",
   "metadata": {},
   "outputs": [],
   "source": [
    "# Split data into a training set and a test set.\n",
    "\n",
    "X_train_2, X_test_2, y_train_2, y_test_2 = train_test_split(X_2, y_2, test_size=0.3, random_state=0)"
   ]
  },
  {
   "cell_type": "markdown",
   "id": "0508a788",
   "metadata": {},
   "source": [
    "# Regression Analysis"
   ]
  },
  {
   "cell_type": "code",
   "execution_count": 40,
   "id": "eb763030",
   "metadata": {},
   "outputs": [],
   "source": [
    "# Create a regression object.\n",
    "\n",
    "regression_2 = LinearRegression()  # This is the regression object, which will be fit onto the training set."
   ]
  },
  {
   "cell_type": "code",
   "execution_count": 41,
   "id": "99afc1fd",
   "metadata": {},
   "outputs": [
    {
     "data": {
      "text/plain": [
       "LinearRegression()"
      ]
     },
     "execution_count": 41,
     "metadata": {},
     "output_type": "execute_result"
    }
   ],
   "source": [
    "# Fit the regression object onto the training set.\n",
    "\n",
    "regression_2.fit(X_train_2, y_train_2)"
   ]
  },
  {
   "cell_type": "code",
   "execution_count": 42,
   "id": "8c23bbab",
   "metadata": {},
   "outputs": [],
   "source": [
    "# Predict the values of y using X.\n",
    "\n",
    "y_predicted_2 = regression_2.predict(X_test_2)"
   ]
  },
  {
   "cell_type": "markdown",
   "id": "0f722a3e",
   "metadata": {},
   "source": [
    "# Creating a plot that shows regression line on the test set"
   ]
  },
  {
   "cell_type": "code",
   "execution_count": 43,
   "id": "6394d0e1",
   "metadata": {},
   "outputs": [
    {
     "data": {
      "image/png": "[encoded data removed]",
      "text/plain": [
       "<Figure size 432x288 with 1 Axes>"
      ]
     },
     "metadata": {
      "needs_background": "light"
     },
     "output_type": "display_data"
    }
   ],
   "source": [
    "# Create a plot that shows the regression line from the model on the test set.\n",
    "\n",
    "plot_test = plt\n",
    "plot_test.scatter(X_test_2, y_test_2, color='gray', s = 15)\n",
    "plot_test.plot(X_test_2, y_predicted_2, color='red', linewidth =3)\n",
    "plot_test.title('Blocked Shots vs Number of Wins (Test set)')\n",
    "plot_test.xlabel('Blocked Shots')\n",
    "plot_test.ylabel('Number of Wins')\n",
    "plot_test.show()"
   ]
  },
  {
   "cell_type": "markdown",
   "id": "00386f06",
   "metadata": {},
   "source": [
    "# Interpretation of how well the line fits the data"
   ]
  },
  {
   "cell_type": "markdown",
   "id": "4413e1ec",
   "metadata": {},
   "source": [
    "Data appears to fit the data less well than the last variable."
   ]
  },
  {
   "cell_type": "code",
   "execution_count": 44,
   "id": "9bb80e78",
   "metadata": {},
   "outputs": [],
   "source": [
    "# Create objects that contain the model summary statistics.\n",
    "\n",
    "rmse = mean_squared_error(y_test_2, y_predicted_2) # This is the mean squared error\n",
    "r2 = r2_score(y_test_2, y_predicted_2) # This is the R2 score. "
   ]
  },
  {
   "cell_type": "markdown",
   "id": "fa10ddd6",
   "metadata": {},
   "source": [
    "# Checking model performance"
   ]
  },
  {
   "cell_type": "code",
   "execution_count": 45,
   "id": "f96ad320",
   "metadata": {},
   "outputs": [
    {
     "name": "stdout",
     "output_type": "stream",
     "text": [
      "Slope: [[0.6269228]]\n",
      "Mean squared error:  163666.6098265995\n",
      "R2 score:  -0.16463370505835973\n"
     ]
    }
   ],
   "source": [
    "# Print the model summary statistics. This is where you evaluate the performance of the model.\n",
    "\n",
    "print('Slope:' ,regression_2.coef_)\n",
    "print('Mean squared error: ', rmse)\n",
    "print('R2 score: ', r2)"
   ]
  },
  {
   "cell_type": "markdown",
   "id": "ee9a6449",
   "metadata": {},
   "source": [
    "Acccording to the slope, as blocked shots increase so does the number of wins."
   ]
  },
  {
   "cell_type": "markdown",
   "id": "99021e5c",
   "metadata": {},
   "source": [
    "According to the mean squared error, there is quite a bit of distance from the trend line and the points. Therefore this is not a good fit for this data."
   ]
  },
  {
   "cell_type": "markdown",
   "id": "46f4983a",
   "metadata": {},
   "source": [
    "According to R2, this value is negative so it is a bad fit."
   ]
  },
  {
   "cell_type": "markdown",
   "id": "7cb3a469",
   "metadata": {},
   "source": [
    "# Comparing predicted y values with actual y values"
   ]
  },
  {
   "cell_type": "code",
   "execution_count": 46,
   "id": "16290875",
   "metadata": {},
   "outputs": [
    {
     "data": {
      "text/plain": [
       "array([[1653.25549722],\n",
       "       [1565.48630547],\n",
       "       [1573.00937905],\n",
       "       [1503.42094844],\n",
       "       [1474.58249972],\n",
       "       [1392.45561314],\n",
       "       [1480.8517277 ],\n",
       "       [1570.50168785],\n",
       "       [1484.61326449],\n",
       "       [1540.40939354],\n",
       "       [1603.10167336]])"
      ]
     },
     "execution_count": 46,
     "metadata": {},
     "output_type": "execute_result"
    }
   ],
   "source": [
    "y_predicted_2"
   ]
  },
  {
   "cell_type": "code",
   "execution_count": 47,
   "id": "39faf7fa",
   "metadata": {},
   "outputs": [
    {
     "data": {
      "text/html": [
       "<div>\n",
       "<style scoped>\n",
       "    .dataframe tbody tr th:only-of-type {\n",
       "        vertical-align: middle;\n",
       "    }\n",
       "\n",
       "    .dataframe tbody tr th {\n",
       "        vertical-align: top;\n",
       "    }\n",
       "\n",
       "    .dataframe thead th {\n",
       "        text-align: right;\n",
       "    }\n",
       "</style>\n",
       "<table border=\"1\" class=\"dataframe\">\n",
       "  <thead>\n",
       "    <tr style=\"text-align: right;\">\n",
       "      <th></th>\n",
       "      <th>Actual</th>\n",
       "      <th>Predicted</th>\n",
       "    </tr>\n",
       "  </thead>\n",
       "  <tbody>\n",
       "    <tr>\n",
       "      <th>0</th>\n",
       "      <td>650</td>\n",
       "      <td>1653.255497</td>\n",
       "    </tr>\n",
       "    <tr>\n",
       "      <th>1</th>\n",
       "      <td>1686</td>\n",
       "      <td>1565.486305</td>\n",
       "    </tr>\n",
       "    <tr>\n",
       "      <th>2</th>\n",
       "      <td>1762</td>\n",
       "      <td>1573.009379</td>\n",
       "    </tr>\n",
       "    <tr>\n",
       "      <th>3</th>\n",
       "      <td>888</td>\n",
       "      <td>1503.420948</td>\n",
       "    </tr>\n",
       "    <tr>\n",
       "      <th>4</th>\n",
       "      <td>1739</td>\n",
       "      <td>1474.582500</td>\n",
       "    </tr>\n",
       "    <tr>\n",
       "      <th>5</th>\n",
       "      <td>1713</td>\n",
       "      <td>1392.455613</td>\n",
       "    </tr>\n",
       "    <tr>\n",
       "      <th>6</th>\n",
       "      <td>1705</td>\n",
       "      <td>1480.851728</td>\n",
       "    </tr>\n",
       "    <tr>\n",
       "      <th>7</th>\n",
       "      <td>1768</td>\n",
       "      <td>1570.501688</td>\n",
       "    </tr>\n",
       "    <tr>\n",
       "      <th>8</th>\n",
       "      <td>1682</td>\n",
       "      <td>1484.613264</td>\n",
       "    </tr>\n",
       "    <tr>\n",
       "      <th>9</th>\n",
       "      <td>1714</td>\n",
       "      <td>1540.409394</td>\n",
       "    </tr>\n",
       "    <tr>\n",
       "      <th>10</th>\n",
       "      <td>1787</td>\n",
       "      <td>1603.101673</td>\n",
       "    </tr>\n",
       "  </tbody>\n",
       "</table>\n",
       "</div>"
      ],
      "text/plain": [
       "    Actual    Predicted\n",
       "0      650  1653.255497\n",
       "1     1686  1565.486305\n",
       "2     1762  1573.009379\n",
       "3      888  1503.420948\n",
       "4     1739  1474.582500\n",
       "5     1713  1392.455613\n",
       "6     1705  1480.851728\n",
       "7     1768  1570.501688\n",
       "8     1682  1484.613264\n",
       "9     1714  1540.409394\n",
       "10    1787  1603.101673"
      ]
     },
     "execution_count": 47,
     "metadata": {},
     "output_type": "execute_result"
    }
   ],
   "source": [
    "# Create a dataframe comparing the actual and predicted values of y.\n",
    "\n",
    "data = pd.DataFrame({'Actual': y_test_2.flatten(), 'Predicted': y_predicted_2.flatten()})\n",
    "data.head(30)"
   ]
  },
  {
   "cell_type": "markdown",
   "id": "dcf0a1d6",
   "metadata": {},
   "source": [
    "These values are not very close. Blocked shots do not appear to be a good predictor of number of wins. "
   ]
  },
  {
   "cell_type": "markdown",
   "id": "b5f17d6c",
   "metadata": {},
   "source": [
    "# Thoughts about how the model performed"
   ]
  },
  {
   "cell_type": "markdown",
   "id": "3aef4eeb",
   "metadata": {},
   "source": [
    "Acccording to the slope, as blocked shots increase so does the number of wins."
   ]
  },
  {
   "cell_type": "markdown",
   "id": "55eb9bae",
   "metadata": {},
   "source": [
    "According to the mean squared error, there is quite a bit of distance from the trend line and the points. Therefore this is not a good fit for this data."
   ]
  },
  {
   "cell_type": "markdown",
   "id": "7ba7920e",
   "metadata": {},
   "source": [
    "According to R2, this value is negative so it is a bad fit."
   ]
  },
  {
   "cell_type": "markdown",
   "id": "94851de2",
   "metadata": {},
   "source": [
    "Doesn't appear to be any data bias here"
   ]
  }
 ],
 "metadata": {
  "kernelspec": {
   "display_name": "Python 3 (ipykernel)",
   "language": "python",
   "name": "python3"
  },
  "language_info": {
   "codemirror_mode": {
    "name": "ipython",
    "version": 3
   },
   "file_extension": ".py",
   "mimetype": "text/x-python",
   "name": "python",
   "nbconvert_exporter": "python",
   "pygments_lexer": "ipython3",
   "version": "3.9.7"
  }
 },
 "nbformat": 4,
 "nbformat_minor": 5
}
